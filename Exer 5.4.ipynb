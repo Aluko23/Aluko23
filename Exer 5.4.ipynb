{
 "cells": [
  {
   "cell_type": "markdown",
   "id": "47f8599c-1b55-48d0-8d6a-3564d7b06f37",
   "metadata": {},
   "source": [
    "# QUESTION 3. DESCRIPTIVE STATISTICS AND FACTORS THAT CONTRIBUTE TO CLIENT LOST"
   ]
  },
  {
   "cell_type": "code",
   "execution_count": 1,
   "id": "a7cd7954-e5bd-46fa-a099-4ecb3de98fd6",
   "metadata": {},
   "outputs": [],
   "source": [
    "# import libraries\n",
    "import pandas as pd\n",
    "import numpy as np\n",
    "import os\n",
    "import matplotlib.pyplot as plt\n",
    "import seaborn as sns\n",
    "import scipy"
   ]
  },
  {
   "cell_type": "code",
   "execution_count": 24,
   "id": "584bb240-80b3-4def-a637-3dcb9a351fb0",
   "metadata": {},
   "outputs": [],
   "source": [
    "path = r'C:\\Users\\Tim\\Desktop\\Data Analytics Intro\\Python Fundamentals for Data Analysts 4\\Instacart Basket Analysis'"
   ]
  },
  {
   "cell_type": "code",
   "execution_count": 25,
   "id": "b63b0f29-6550-4974-aaee-a3d8a6d80500",
   "metadata": {},
   "outputs": [
    {
     "data": {
      "text/plain": [
       "'C:\\\\Users\\\\Tim\\\\Desktop\\\\Data Analytics Intro\\\\Python Fundamentals for Data Analysts 4\\\\Instacart Basket Analysis'"
      ]
     },
     "execution_count": 25,
     "metadata": {},
     "output_type": "execute_result"
    }
   ],
   "source": [
    "path"
   ]
  },
  {
   "cell_type": "code",
   "execution_count": 29,
   "id": "8463c498-f04c-4c8b-8601-fb36e46f7831",
   "metadata": {},
   "outputs": [],
   "source": [
    "path = r'C:\\Users\\Tim\\Desktop\\Data Analytics Intro\\Python Fundamentals for Data Analysts 4\\Instacart Basket Analysis\\02 Data\\PGBank Data\\PigEBank-Client-Clean_Data set.xlsx' "
   ]
  },
  {
   "cell_type": "code",
   "execution_count": 30,
   "id": "f45bb9aa-4f00-43ec-bd38-20a1058fb107",
   "metadata": {},
   "outputs": [
    {
     "data": {
      "text/plain": [
       "'C:\\\\Users\\\\Tim\\\\Desktop\\\\Data Analytics Intro\\\\Python Fundamentals for Data Analysts 4\\\\Instacart Basket Analysis\\\\02 Data\\\\PGBank Data\\\\PigEBank-Client-Clean_Data set.xlsx'"
      ]
     },
     "execution_count": 30,
     "metadata": {},
     "output_type": "execute_result"
    }
   ],
   "source": [
    "path"
   ]
  },
  {
   "cell_type": "code",
   "execution_count": 33,
   "id": "5c909813-27b2-45b9-b7fb-95b57c180f18",
   "metadata": {},
   "outputs": [],
   "source": [
    "df_bank = pd.read_excel(r'C:\\Users\\Tim\\Desktop\\Data Analytics Intro\\Python Fundamentals for Data Analysts 4\\Instacart Basket Analysis\\02 Data\\PGBank Data\\PigEBank-Client-Clean_Data set.xlsx')"
   ]
  },
  {
   "cell_type": "code",
   "execution_count": 34,
   "id": "45e57c85-16c8-443c-b04f-fbb62f706616",
   "metadata": {},
   "outputs": [
    {
     "data": {
      "text/html": [
       "<div>\n",
       "<style scoped>\n",
       "    .dataframe tbody tr th:only-of-type {\n",
       "        vertical-align: middle;\n",
       "    }\n",
       "\n",
       "    .dataframe tbody tr th {\n",
       "        vertical-align: top;\n",
       "    }\n",
       "\n",
       "    .dataframe thead th {\n",
       "        text-align: right;\n",
       "    }\n",
       "</style>\n",
       "<table border=\"1\" class=\"dataframe\">\n",
       "  <thead>\n",
       "    <tr style=\"text-align: right;\">\n",
       "      <th></th>\n",
       "      <th>Row_Number</th>\n",
       "      <th>Customer_ID</th>\n",
       "      <th>Last_Name</th>\n",
       "      <th>Credit Score</th>\n",
       "      <th>Country</th>\n",
       "      <th>Gender</th>\n",
       "      <th>Age</th>\n",
       "      <th>Tenure</th>\n",
       "      <th>Balance</th>\n",
       "      <th>NumOfProducts</th>\n",
       "      <th>HasCrCard?</th>\n",
       "      <th>IsActiveMember</th>\n",
       "      <th>Estimated Salary</th>\n",
       "      <th>ExitedFromBank?</th>\n",
       "    </tr>\n",
       "  </thead>\n",
       "  <tbody>\n",
       "    <tr>\n",
       "      <th>0</th>\n",
       "      <td>1</td>\n",
       "      <td>15634602</td>\n",
       "      <td>Hargrave</td>\n",
       "      <td>619</td>\n",
       "      <td>France</td>\n",
       "      <td>Female</td>\n",
       "      <td>39</td>\n",
       "      <td>2</td>\n",
       "      <td>0.00</td>\n",
       "      <td>1</td>\n",
       "      <td>1</td>\n",
       "      <td>1</td>\n",
       "      <td>98.00</td>\n",
       "      <td>1</td>\n",
       "    </tr>\n",
       "    <tr>\n",
       "      <th>1</th>\n",
       "      <td>2</td>\n",
       "      <td>15647311</td>\n",
       "      <td>Hill</td>\n",
       "      <td>608</td>\n",
       "      <td>Spain</td>\n",
       "      <td>Female</td>\n",
       "      <td>41</td>\n",
       "      <td>1</td>\n",
       "      <td>83807.86</td>\n",
       "      <td>1</td>\n",
       "      <td>0</td>\n",
       "      <td>1</td>\n",
       "      <td>112542.58</td>\n",
       "      <td>0</td>\n",
       "    </tr>\n",
       "    <tr>\n",
       "      <th>2</th>\n",
       "      <td>3</td>\n",
       "      <td>15619304</td>\n",
       "      <td>Onio</td>\n",
       "      <td>502</td>\n",
       "      <td>France</td>\n",
       "      <td>Female</td>\n",
       "      <td>42</td>\n",
       "      <td>8</td>\n",
       "      <td>159660.80</td>\n",
       "      <td>3</td>\n",
       "      <td>1</td>\n",
       "      <td>0</td>\n",
       "      <td>113931.57</td>\n",
       "      <td>1</td>\n",
       "    </tr>\n",
       "    <tr>\n",
       "      <th>3</th>\n",
       "      <td>4</td>\n",
       "      <td>15701354</td>\n",
       "      <td>Boni</td>\n",
       "      <td>699</td>\n",
       "      <td>France</td>\n",
       "      <td>Female</td>\n",
       "      <td>39</td>\n",
       "      <td>1</td>\n",
       "      <td>0.00</td>\n",
       "      <td>2</td>\n",
       "      <td>0</td>\n",
       "      <td>0</td>\n",
       "      <td>93826.63</td>\n",
       "      <td>0</td>\n",
       "    </tr>\n",
       "    <tr>\n",
       "      <th>4</th>\n",
       "      <td>5</td>\n",
       "      <td>15737888</td>\n",
       "      <td>Mitchell</td>\n",
       "      <td>850</td>\n",
       "      <td>Spain</td>\n",
       "      <td>Female</td>\n",
       "      <td>43</td>\n",
       "      <td>2</td>\n",
       "      <td>125510.82</td>\n",
       "      <td>1</td>\n",
       "      <td>1</td>\n",
       "      <td>1</td>\n",
       "      <td>79084.10</td>\n",
       "      <td>0</td>\n",
       "    </tr>\n",
       "  </tbody>\n",
       "</table>\n",
       "</div>"
      ],
      "text/plain": [
       "   Row_Number  Customer_ID Last_Name  Credit Score Country  Gender  Age  \\\n",
       "0           1     15634602  Hargrave           619  France  Female   39   \n",
       "1           2     15647311      Hill           608   Spain  Female   41   \n",
       "2           3     15619304      Onio           502  France  Female   42   \n",
       "3           4     15701354      Boni           699  France  Female   39   \n",
       "4           5     15737888  Mitchell           850   Spain  Female   43   \n",
       "\n",
       "   Tenure    Balance  NumOfProducts  HasCrCard?  IsActiveMember  \\\n",
       "0       2       0.00              1           1               1   \n",
       "1       1   83807.86              1           0               1   \n",
       "2       8  159660.80              3           1               0   \n",
       "3       1       0.00              2           0               0   \n",
       "4       2  125510.82              1           1               1   \n",
       "\n",
       "   Estimated Salary  ExitedFromBank?  \n",
       "0             98.00                1  \n",
       "1         112542.58                0  \n",
       "2         113931.57                1  \n",
       "3          93826.63                0  \n",
       "4          79084.10                0  "
      ]
     },
     "execution_count": 34,
     "metadata": {},
     "output_type": "execute_result"
    }
   ],
   "source": [
    "df_bank.head()"
   ]
  },
  {
   "cell_type": "code",
   "execution_count": 35,
   "id": "be8014c7-740e-4dda-993f-0ef0d8318a56",
   "metadata": {},
   "outputs": [
    {
     "name": "stdout",
     "output_type": "stream",
     "text": [
      "   Row_Number  Customer_ID Last_Name  Credit Score Country  Gender  Age  \\\n",
      "0           1     15634602  Hargrave           619  France  Female   39   \n",
      "1           2     15647311      Hill           608   Spain  Female   41   \n",
      "2           3     15619304      Onio           502  France  Female   42   \n",
      "3           4     15701354      Boni           699  France  Female   39   \n",
      "4           5     15737888  Mitchell           850   Spain  Female   43   \n",
      "\n",
      "   Tenure    Balance  NumOfProducts  HasCrCard?  IsActiveMember  \\\n",
      "0       2       0.00              1           1               1   \n",
      "1       1   83807.86              1           0               1   \n",
      "2       8  159660.80              3           1               0   \n",
      "3       1       0.00              2           0               0   \n",
      "4       2  125510.82              1           1               1   \n",
      "\n",
      "   Estimated Salary  ExitedFromBank?  \n",
      "0             98.00                1  \n",
      "1         112542.58                0  \n",
      "2         113931.57                1  \n",
      "3          93826.63                0  \n",
      "4          79084.10                0  \n"
     ]
    }
   ],
   "source": [
    "print(df_bank.head())"
   ]
  },
  {
   "cell_type": "code",
   "execution_count": 36,
   "id": "ace9034f-6b60-4be1-a870-74af4617ab91",
   "metadata": {},
   "outputs": [
    {
     "data": {
      "image/png": "[encoded data removed]",
      "text/plain": [
       "<Figure size 1500x1500 with 12 Axes>"
      ]
     },
     "metadata": {},
     "output_type": "display_data"
    }
   ],
   "source": [
    "#Plot histograms for all numeric columns\n",
    "df_bank.hist(bins=15, figsize=(15, 15), layout=(4, 3))  \n",
    "\n",
    "# Adjusted to 4 rows and 3 columns\\n\",\n",
    "plt.tight_layout()\n",
    "plt.show()"
   ]
  },
  {
   "cell_type": "code",
   "execution_count": 37,
   "id": "7c409ce4-a959-4647-9f7b-84d059e8b241",
   "metadata": {},
   "outputs": [
    {
     "data": {
      "text/plain": [
       "Row_Number          0\n",
       "Customer_ID         0\n",
       "Last_Name           0\n",
       "Credit Score        0\n",
       "Country             0\n",
       "Gender              0\n",
       "Age                 0\n",
       "Tenure              0\n",
       "Balance             0\n",
       "NumOfProducts       0\n",
       "HasCrCard?          0\n",
       "IsActiveMember      0\n",
       "Estimated Salary    1\n",
       "ExitedFromBank?     0\n",
       "dtype: int64"
      ]
     },
     "execution_count": 37,
     "metadata": {},
     "output_type": "execute_result"
    }
   ],
   "source": [
    "# Review any missing values\n",
    "\n",
    "df_bank.isnull().sum()"
   ]
  },
  {
   "cell_type": "code",
   "execution_count": 38,
   "id": "9471f5dd-2d23-4f9c-83bf-8e503e3252d6",
   "metadata": {},
   "outputs": [
    {
     "name": "stdout",
     "output_type": "stream",
     "text": [
      "<class 'pandas.core.frame.DataFrame'>\n",
      "RangeIndex: 991 entries, 0 to 990\n",
      "Data columns (total 14 columns):\n",
      " #   Column            Non-Null Count  Dtype  \n",
      "---  ------            --------------  -----  \n",
      " 0   Row_Number        991 non-null    int64  \n",
      " 1   Customer_ID       991 non-null    int64  \n",
      " 2   Last_Name         991 non-null    object \n",
      " 3   Credit Score      991 non-null    int64  \n",
      " 4   Country           991 non-null    object \n",
      " 5   Gender            991 non-null    object \n",
      " 6   Age               991 non-null    int64  \n",
      " 7   Tenure            991 non-null    int64  \n",
      " 8   Balance           991 non-null    float64\n",
      " 9   NumOfProducts     991 non-null    int64  \n",
      " 10  HasCrCard?        991 non-null    int64  \n",
      " 11  IsActiveMember    991 non-null    int64  \n",
      " 12  Estimated Salary  990 non-null    float64\n",
      " 13  ExitedFromBank?   991 non-null    int64  \n",
      "dtypes: float64(2), int64(9), object(3)\n",
      "memory usage: 108.5+ KB\n"
     ]
    }
   ],
   "source": [
    "# REVIEW DATA TYPES\n",
    "df_bank.info()"
   ]
  },
  {
   "cell_type": "code",
   "execution_count": 39,
   "id": "489057b6-a3b2-4295-8e99-9a063d11cd63",
   "metadata": {},
   "outputs": [],
   "source": [
    "# Convert 'Row_Number' and 'Customer_ID' columns to string type: \n",
    "\n",
    "df_bank[['Row_Number', 'Customer_ID']] = df_bank[['Row_Number', 'Customer_ID']].astype(str)"
   ]
  },
  {
   "cell_type": "code",
   "execution_count": 40,
   "id": "d27e0e7a-4568-4498-b972-fbb91012bee2",
   "metadata": {},
   "outputs": [
    {
     "name": "stdout",
     "output_type": "stream",
     "text": [
      "<class 'pandas.core.frame.DataFrame'>\n",
      "RangeIndex: 991 entries, 0 to 990\n",
      "Data columns (total 14 columns):\n",
      " #   Column            Non-Null Count  Dtype  \n",
      "---  ------            --------------  -----  \n",
      " 0   Row_Number        991 non-null    object \n",
      " 1   Customer_ID       991 non-null    object \n",
      " 2   Last_Name         991 non-null    object \n",
      " 3   Credit Score      991 non-null    int64  \n",
      " 4   Country           991 non-null    object \n",
      " 5   Gender            991 non-null    object \n",
      " 6   Age               991 non-null    int64  \n",
      " 7   Tenure            991 non-null    int64  \n",
      " 8   Balance           991 non-null    float64\n",
      " 9   NumOfProducts     991 non-null    int64  \n",
      " 10  HasCrCard?        991 non-null    int64  \n",
      " 11  IsActiveMember    991 non-null    int64  \n",
      " 12  Estimated Salary  990 non-null    float64\n",
      " 13  ExitedFromBank?   991 non-null    int64  \n",
      "dtypes: float64(2), int64(7), object(5)\n",
      "memory usage: 108.5+ KB\n"
     ]
    }
   ],
   "source": [
    "#Checking data: \n",
    "\n",
    "df_bank.info()"
   ]
  },
  {
   "cell_type": "markdown",
   "id": "a5d7b6c3-fde7-4ffa-92d0-775fd4bbdea0",
   "metadata": {},
   "source": [
    "The one null gender was replaced with Male as an assumption. Deleting it is of irrelevance as the significance of it might not affect the analysis hence was replaced with male gender. "
   ]
  },
  {
   "cell_type": "code",
   "execution_count": 42,
   "id": "6b66fe0d-d905-4106-b5eb-6b303eb9eba3",
   "metadata": {},
   "outputs": [
    {
     "data": {
      "text/html": [
       "<div>\n",
       "<style scoped>\n",
       "    .dataframe tbody tr th:only-of-type {\n",
       "        vertical-align: middle;\n",
       "    }\n",
       "\n",
       "    .dataframe tbody tr th {\n",
       "        vertical-align: top;\n",
       "    }\n",
       "\n",
       "    .dataframe thead th {\n",
       "        text-align: right;\n",
       "    }\n",
       "</style>\n",
       "<table border=\"1\" class=\"dataframe\">\n",
       "  <thead>\n",
       "    <tr style=\"text-align: right;\">\n",
       "      <th></th>\n",
       "      <th>Credit Score</th>\n",
       "      <th>Age</th>\n",
       "      <th>Tenure</th>\n",
       "      <th>Balance</th>\n",
       "      <th>NumOfProducts</th>\n",
       "      <th>HasCrCard?</th>\n",
       "      <th>IsActiveMember</th>\n",
       "      <th>Estimated Salary</th>\n",
       "      <th>ExitedFromBank?</th>\n",
       "    </tr>\n",
       "  </thead>\n",
       "  <tbody>\n",
       "    <tr>\n",
       "      <th>count</th>\n",
       "      <td>991.000000</td>\n",
       "      <td>991.000000</td>\n",
       "      <td>991.000000</td>\n",
       "      <td>991.000000</td>\n",
       "      <td>991.000000</td>\n",
       "      <td>991.000000</td>\n",
       "      <td>991.000000</td>\n",
       "      <td>990.000000</td>\n",
       "      <td>991.000000</td>\n",
       "    </tr>\n",
       "    <tr>\n",
       "      <th>mean</th>\n",
       "      <td>648.486377</td>\n",
       "      <td>39.092836</td>\n",
       "      <td>5.066599</td>\n",
       "      <td>78002.718063</td>\n",
       "      <td>1.522704</td>\n",
       "      <td>0.706357</td>\n",
       "      <td>0.507568</td>\n",
       "      <td>98472.167838</td>\n",
       "      <td>0.205853</td>\n",
       "    </tr>\n",
       "    <tr>\n",
       "      <th>std</th>\n",
       "      <td>98.055064</td>\n",
       "      <td>10.238739</td>\n",
       "      <td>2.928371</td>\n",
       "      <td>62799.237345</td>\n",
       "      <td>0.573170</td>\n",
       "      <td>0.455660</td>\n",
       "      <td>0.500195</td>\n",
       "      <td>57281.273628</td>\n",
       "      <td>0.404527</td>\n",
       "    </tr>\n",
       "    <tr>\n",
       "      <th>min</th>\n",
       "      <td>376.000000</td>\n",
       "      <td>18.000000</td>\n",
       "      <td>0.000000</td>\n",
       "      <td>0.000000</td>\n",
       "      <td>1.000000</td>\n",
       "      <td>0.000000</td>\n",
       "      <td>0.000000</td>\n",
       "      <td>98.000000</td>\n",
       "      <td>0.000000</td>\n",
       "    </tr>\n",
       "    <tr>\n",
       "      <th>25%</th>\n",
       "      <td>580.000000</td>\n",
       "      <td>32.000000</td>\n",
       "      <td>2.000000</td>\n",
       "      <td>0.000000</td>\n",
       "      <td>1.000000</td>\n",
       "      <td>0.000000</td>\n",
       "      <td>0.000000</td>\n",
       "      <td>48193.505000</td>\n",
       "      <td>0.000000</td>\n",
       "    </tr>\n",
       "    <tr>\n",
       "      <th>50%</th>\n",
       "      <td>653.000000</td>\n",
       "      <td>37.000000</td>\n",
       "      <td>5.000000</td>\n",
       "      <td>98668.180000</td>\n",
       "      <td>1.000000</td>\n",
       "      <td>1.000000</td>\n",
       "      <td>1.000000</td>\n",
       "      <td>98334.925000</td>\n",
       "      <td>0.000000</td>\n",
       "    </tr>\n",
       "    <tr>\n",
       "      <th>75%</th>\n",
       "      <td>721.000000</td>\n",
       "      <td>44.000000</td>\n",
       "      <td>8.000000</td>\n",
       "      <td>129461.850000</td>\n",
       "      <td>2.000000</td>\n",
       "      <td>1.000000</td>\n",
       "      <td>1.000000</td>\n",
       "      <td>146281.320000</td>\n",
       "      <td>0.000000</td>\n",
       "    </tr>\n",
       "    <tr>\n",
       "      <th>max</th>\n",
       "      <td>850.000000</td>\n",
       "      <td>82.000000</td>\n",
       "      <td>10.000000</td>\n",
       "      <td>213146.200000</td>\n",
       "      <td>4.000000</td>\n",
       "      <td>1.000000</td>\n",
       "      <td>1.000000</td>\n",
       "      <td>199725.390000</td>\n",
       "      <td>1.000000</td>\n",
       "    </tr>\n",
       "  </tbody>\n",
       "</table>\n",
       "</div>"
      ],
      "text/plain": [
       "       Credit Score         Age      Tenure        Balance  NumOfProducts  \\\n",
       "count    991.000000  991.000000  991.000000     991.000000     991.000000   \n",
       "mean     648.486377   39.092836    5.066599   78002.718063       1.522704   \n",
       "std       98.055064   10.238739    2.928371   62799.237345       0.573170   \n",
       "min      376.000000   18.000000    0.000000       0.000000       1.000000   \n",
       "25%      580.000000   32.000000    2.000000       0.000000       1.000000   \n",
       "50%      653.000000   37.000000    5.000000   98668.180000       1.000000   \n",
       "75%      721.000000   44.000000    8.000000  129461.850000       2.000000   \n",
       "max      850.000000   82.000000   10.000000  213146.200000       4.000000   \n",
       "\n",
       "       HasCrCard?  IsActiveMember  Estimated Salary  ExitedFromBank?  \n",
       "count  991.000000      991.000000        990.000000       991.000000  \n",
       "mean     0.706357        0.507568      98472.167838         0.205853  \n",
       "std      0.455660        0.500195      57281.273628         0.404527  \n",
       "min      0.000000        0.000000         98.000000         0.000000  \n",
       "25%      0.000000        0.000000      48193.505000         0.000000  \n",
       "50%      1.000000        1.000000      98334.925000         0.000000  \n",
       "75%      1.000000        1.000000     146281.320000         0.000000  \n",
       "max      1.000000        1.000000     199725.390000         1.000000  "
      ]
     },
     "execution_count": 42,
     "metadata": {},
     "output_type": "execute_result"
    }
   ],
   "source": [
    "# DESCRIPTIVE ANALYSIS\n",
    "df_bank.describe()"
   ]
  },
  {
   "cell_type": "markdown",
   "id": "5ced54f6-a332-4b25-b320-bb433e91a0a2",
   "metadata": {},
   "source": [
    "Note: 50% of clients have a credit card while 60% have one product. At least, the majority of clients will access 1 product with a maximum of 4. The tenure of Clients is measured between 0 to 10 years. "
   ]
  },
  {
   "cell_type": "code",
   "execution_count": 43,
   "id": "f2baac7b-be0e-4fd2-9569-8fb9276e00f1",
   "metadata": {},
   "outputs": [],
   "source": [
    "# Replace \\\"Age\\\" = 2 with the median age of the column\n",
    "\n",
    "df_bank.loc[df_bank['Age'] == 2, 'Age'] = (df_bank['Age'].median())"
   ]
  },
  {
   "cell_type": "code",
   "execution_count": 44,
   "id": "87c000f3-5d6d-4a3c-97bd-c3de8e48f9d6",
   "metadata": {},
   "outputs": [
    {
     "data": {
      "text/html": [
       "<div>\n",
       "<style scoped>\n",
       "    .dataframe tbody tr th:only-of-type {\n",
       "        vertical-align: middle;\n",
       "    }\n",
       "\n",
       "    .dataframe tbody tr th {\n",
       "        vertical-align: top;\n",
       "    }\n",
       "\n",
       "    .dataframe thead th {\n",
       "        text-align: right;\n",
       "    }\n",
       "</style>\n",
       "<table border=\"1\" class=\"dataframe\">\n",
       "  <thead>\n",
       "    <tr style=\"text-align: right;\">\n",
       "      <th></th>\n",
       "      <th>Credit Score</th>\n",
       "      <th>Age</th>\n",
       "      <th>Tenure</th>\n",
       "      <th>Balance</th>\n",
       "      <th>NumOfProducts</th>\n",
       "      <th>HasCrCard?</th>\n",
       "      <th>IsActiveMember</th>\n",
       "      <th>Estimated Salary</th>\n",
       "      <th>ExitedFromBank?</th>\n",
       "    </tr>\n",
       "  </thead>\n",
       "  <tbody>\n",
       "    <tr>\n",
       "      <th>count</th>\n",
       "      <td>991.000000</td>\n",
       "      <td>991.000000</td>\n",
       "      <td>991.000000</td>\n",
       "      <td>991.000000</td>\n",
       "      <td>991.000000</td>\n",
       "      <td>991.000000</td>\n",
       "      <td>991.000000</td>\n",
       "      <td>990.000000</td>\n",
       "      <td>991.000000</td>\n",
       "    </tr>\n",
       "    <tr>\n",
       "      <th>mean</th>\n",
       "      <td>648.486377</td>\n",
       "      <td>39.092836</td>\n",
       "      <td>5.066599</td>\n",
       "      <td>78002.718063</td>\n",
       "      <td>1.522704</td>\n",
       "      <td>0.706357</td>\n",
       "      <td>0.507568</td>\n",
       "      <td>98472.167838</td>\n",
       "      <td>0.205853</td>\n",
       "    </tr>\n",
       "    <tr>\n",
       "      <th>std</th>\n",
       "      <td>98.055064</td>\n",
       "      <td>10.238739</td>\n",
       "      <td>2.928371</td>\n",
       "      <td>62799.237345</td>\n",
       "      <td>0.573170</td>\n",
       "      <td>0.455660</td>\n",
       "      <td>0.500195</td>\n",
       "      <td>57281.273628</td>\n",
       "      <td>0.404527</td>\n",
       "    </tr>\n",
       "    <tr>\n",
       "      <th>min</th>\n",
       "      <td>376.000000</td>\n",
       "      <td>18.000000</td>\n",
       "      <td>0.000000</td>\n",
       "      <td>0.000000</td>\n",
       "      <td>1.000000</td>\n",
       "      <td>0.000000</td>\n",
       "      <td>0.000000</td>\n",
       "      <td>98.000000</td>\n",
       "      <td>0.000000</td>\n",
       "    </tr>\n",
       "    <tr>\n",
       "      <th>25%</th>\n",
       "      <td>580.000000</td>\n",
       "      <td>32.000000</td>\n",
       "      <td>2.000000</td>\n",
       "      <td>0.000000</td>\n",
       "      <td>1.000000</td>\n",
       "      <td>0.000000</td>\n",
       "      <td>0.000000</td>\n",
       "      <td>48193.505000</td>\n",
       "      <td>0.000000</td>\n",
       "    </tr>\n",
       "    <tr>\n",
       "      <th>50%</th>\n",
       "      <td>653.000000</td>\n",
       "      <td>37.000000</td>\n",
       "      <td>5.000000</td>\n",
       "      <td>98668.180000</td>\n",
       "      <td>1.000000</td>\n",
       "      <td>1.000000</td>\n",
       "      <td>1.000000</td>\n",
       "      <td>98334.925000</td>\n",
       "      <td>0.000000</td>\n",
       "    </tr>\n",
       "    <tr>\n",
       "      <th>75%</th>\n",
       "      <td>721.000000</td>\n",
       "      <td>44.000000</td>\n",
       "      <td>8.000000</td>\n",
       "      <td>129461.850000</td>\n",
       "      <td>2.000000</td>\n",
       "      <td>1.000000</td>\n",
       "      <td>1.000000</td>\n",
       "      <td>146281.320000</td>\n",
       "      <td>0.000000</td>\n",
       "    </tr>\n",
       "    <tr>\n",
       "      <th>max</th>\n",
       "      <td>850.000000</td>\n",
       "      <td>82.000000</td>\n",
       "      <td>10.000000</td>\n",
       "      <td>213146.200000</td>\n",
       "      <td>4.000000</td>\n",
       "      <td>1.000000</td>\n",
       "      <td>1.000000</td>\n",
       "      <td>199725.390000</td>\n",
       "      <td>1.000000</td>\n",
       "    </tr>\n",
       "  </tbody>\n",
       "</table>\n",
       "</div>"
      ],
      "text/plain": [
       "       Credit Score         Age      Tenure        Balance  NumOfProducts  \\\n",
       "count    991.000000  991.000000  991.000000     991.000000     991.000000   \n",
       "mean     648.486377   39.092836    5.066599   78002.718063       1.522704   \n",
       "std       98.055064   10.238739    2.928371   62799.237345       0.573170   \n",
       "min      376.000000   18.000000    0.000000       0.000000       1.000000   \n",
       "25%      580.000000   32.000000    2.000000       0.000000       1.000000   \n",
       "50%      653.000000   37.000000    5.000000   98668.180000       1.000000   \n",
       "75%      721.000000   44.000000    8.000000  129461.850000       2.000000   \n",
       "max      850.000000   82.000000   10.000000  213146.200000       4.000000   \n",
       "\n",
       "       HasCrCard?  IsActiveMember  Estimated Salary  ExitedFromBank?  \n",
       "count  991.000000      991.000000        990.000000       991.000000  \n",
       "mean     0.706357        0.507568      98472.167838         0.205853  \n",
       "std      0.455660        0.500195      57281.273628         0.404527  \n",
       "min      0.000000        0.000000         98.000000         0.000000  \n",
       "25%      0.000000        0.000000      48193.505000         0.000000  \n",
       "50%      1.000000        1.000000      98334.925000         0.000000  \n",
       "75%      1.000000        1.000000     146281.320000         0.000000  \n",
       "max      1.000000        1.000000     199725.390000         1.000000  "
      ]
     },
     "execution_count": 44,
     "metadata": {},
     "output_type": "execute_result"
    }
   ],
   "source": [
    "# review Age new min \n",
    "\n",
    "df_bank.describe()"
   ]
  },
  {
   "cell_type": "code",
   "execution_count": 45,
   "id": "2cf54b92-7737-485d-b1f9-403f8b92153b",
   "metadata": {},
   "outputs": [
    {
     "data": {
      "image/png": "[encoded data removed]",
      "text/plain": [
       "<Figure size 640x480 with 1 Axes>"
      ]
     },
     "metadata": {},
     "output_type": "display_data"
    }
   ],
   "source": [
    "#Creating histogram on ages\n",
    "\n",
    "hist=df_bank['Age'].plot.hist(bins=24)"
   ]
  },
  {
   "cell_type": "code",
   "execution_count": 46,
   "id": "44ae661e-c33a-433f-b385-fddb2b5566bf",
   "metadata": {},
   "outputs": [
    {
     "data": {
      "image/png": "[encoded data removed]",
      "text/plain": [
       "<Figure size 640x480 with 1 Axes>"
      ]
     },
     "metadata": {},
     "output_type": "display_data"
    }
   ],
   "source": [
    "#Creating a line chart to analise the correlation between age ad tenure\n",
    "\n",
    "line = sns.lineplot(data=df_bank,x='Age',y='Tenure')"
   ]
  },
  {
   "cell_type": "markdown",
   "id": "4043f9ec-165f-4e7f-b0db-55cca54ca0e4",
   "metadata": {},
   "source": [
    "# QUESTION 3. IDENTIFY RISK FACTOR CONTRIBUTION TO CLIENTS EXITING THE BANK"
   ]
  },
  {
   "cell_type": "code",
   "execution_count": 50,
   "id": "0240d923-6385-4791-9e05-b202536b2636",
   "metadata": {},
   "outputs": [],
   "source": [
    "# Data Splitting: Train-test split\n",
    "X = df_bank.drop('ExitedFromBank?', axis=1)\n",
    "y = df_bank['ExitedFromBank?']"
   ]
  },
  {
   "cell_type": "code",
   "execution_count": 53,
   "id": "15d59997-7487-4cd4-a82a-cb60d85c7930",
   "metadata": {},
   "outputs": [],
   "source": [
    "#Editing the ExitedBank column with tags to analise banks loyalty client\n",
    "\n",
    "results=[]\n",
    "\n",
    "for value in df_bank ['ExitedFromBank?']:\n",
    "    if value == 0:\n",
    "        results.append('Loyal Clients')\n",
    "    elif value == 1:\n",
    "        results.append('ExitedfromBank')"
   ]
  },
  {
   "cell_type": "code",
   "execution_count": 54,
   "id": "c71866d6-2fe4-42f6-a752-74e02ed0c8ee",
   "metadata": {},
   "outputs": [],
   "source": [
    "# Add the new column to the df_bank \n",
    "\n",
    "df_bank['Client Loyalty'] = results"
   ]
  },
  {
   "cell_type": "code",
   "execution_count": 55,
   "id": "21c89df3-019b-48c4-841a-de4c8234a78e",
   "metadata": {},
   "outputs": [
    {
     "data": {
      "text/plain": [
       "Client Loyalty\n",
       "Loyal Clients     787\n",
       "ExitedfromBank    204\n",
       "Name: count, dtype: int64"
      ]
     },
     "execution_count": 55,
     "metadata": {},
     "output_type": "execute_result"
    }
   ],
   "source": [
    "#Checking data\n",
    "df_bank['Client Loyalty'].value_counts(dropna=False)"
   ]
  },
  {
   "cell_type": "code",
   "execution_count": 56,
   "id": "8dceec6a-584e-4b7a-83ea-d3c74362ae9d",
   "metadata": {},
   "outputs": [
    {
     "data": {
      "text/html": [
       "<div>\n",
       "<style scoped>\n",
       "    .dataframe tbody tr th:only-of-type {\n",
       "        vertical-align: middle;\n",
       "    }\n",
       "\n",
       "    .dataframe tbody tr th {\n",
       "        vertical-align: top;\n",
       "    }\n",
       "\n",
       "    .dataframe thead tr th {\n",
       "        text-align: left;\n",
       "    }\n",
       "\n",
       "    .dataframe thead tr:last-of-type th {\n",
       "        text-align: right;\n",
       "    }\n",
       "</style>\n",
       "<table border=\"1\" class=\"dataframe\">\n",
       "  <thead>\n",
       "    <tr>\n",
       "      <th></th>\n",
       "      <th colspan=\"3\" halign=\"left\">Credit Score</th>\n",
       "    </tr>\n",
       "    <tr>\n",
       "      <th></th>\n",
       "      <th>mean</th>\n",
       "      <th>min</th>\n",
       "      <th>max</th>\n",
       "    </tr>\n",
       "    <tr>\n",
       "      <th>Client Loyalty</th>\n",
       "      <th></th>\n",
       "      <th></th>\n",
       "      <th></th>\n",
       "    </tr>\n",
       "  </thead>\n",
       "  <tbody>\n",
       "    <tr>\n",
       "      <th>ExitedfromBank</th>\n",
       "      <td>636.529412</td>\n",
       "      <td>376</td>\n",
       "      <td>850</td>\n",
       "    </tr>\n",
       "    <tr>\n",
       "      <th>Loyal Clients</th>\n",
       "      <td>651.585769</td>\n",
       "      <td>411</td>\n",
       "      <td>850</td>\n",
       "    </tr>\n",
       "  </tbody>\n",
       "</table>\n",
       "</div>"
      ],
      "text/plain": [
       "               Credit Score          \n",
       "                       mean  min  max\n",
       "Client Loyalty                       \n",
       "ExitedfromBank   636.529412  376  850\n",
       "Loyal Clients    651.585769  411  850"
      ]
     },
     "execution_count": 56,
     "metadata": {},
     "output_type": "execute_result"
    }
   ],
   "source": [
    "# Performing statistics on Clients Loyalty related to Loyalty flag\n",
    "\n",
    "df_bank.groupby('Client Loyalty').agg({'Credit Score' : ['mean', 'min', 'max']})"
   ]
  },
  {
   "cell_type": "code",
   "execution_count": 57,
   "id": "ba6599b7-aaac-4c98-8b56-7f9958d03f42",
   "metadata": {},
   "outputs": [
    {
     "data": {
      "image/png": "[encoded data removed]",
      "text/plain": [
       "<Figure size 640x480 with 1 Axes>"
      ]
     },
     "metadata": {},
     "output_type": "display_data"
    }
   ],
   "source": [
    "#Creating bar chart on the Client Loyalty\n",
    "\n",
    "bar = df_bank['Client Loyalty'].value_counts().sort_index().plot.bar(color=['green','yellow','blue'])"
   ]
  },
  {
   "cell_type": "code",
   "execution_count": 58,
   "id": "fa5dde34-0533-4add-be36-44801ccb0c65",
   "metadata": {},
   "outputs": [],
   "source": [
    "# Separate clients who have left from those who have stayed\n",
    "\n",
    "exit_bank = df_bank[df_bank['ExitedFromBank?'] == 1]\n",
    "stayed_bank = df_bank[df_bank['ExitedFromBank?'] == 0]"
   ]
  },
  {
   "cell_type": "code",
   "execution_count": 59,
   "id": "cb2716ae-59c3-4b36-b8aa-b5b34ac3be9f",
   "metadata": {},
   "outputs": [
    {
     "data": {
      "text/plain": [
       "991"
      ]
     },
     "execution_count": 59,
     "metadata": {},
     "output_type": "execute_result"
    }
   ],
   "source": [
    "#Checking the subset sum up the total correctly\n",
    "\n",
    "len(exit_bank) + len(stayed_bank)"
   ]
  },
  {
   "cell_type": "code",
   "execution_count": 60,
   "id": "9eb4aeba-9bb1-494a-949d-bf599c7f441f",
   "metadata": {},
   "outputs": [
    {
     "data": {
      "text/plain": [
       "(787, 15)"
      ]
     },
     "execution_count": 60,
     "metadata": {},
     "output_type": "execute_result"
    }
   ],
   "source": [
    "#Analysing the stayed_bank df\n",
    "stayed_bank.shape"
   ]
  },
  {
   "cell_type": "code",
   "execution_count": 61,
   "id": "9c8103a4-e365-4ca5-bff8-fa846178633f",
   "metadata": {},
   "outputs": [
    {
     "data": {
      "text/html": [
       "<div>\n",
       "<style scoped>\n",
       "    .dataframe tbody tr th:only-of-type {\n",
       "        vertical-align: middle;\n",
       "    }\n",
       "\n",
       "    .dataframe tbody tr th {\n",
       "        vertical-align: top;\n",
       "    }\n",
       "\n",
       "    .dataframe thead th {\n",
       "        text-align: right;\n",
       "    }\n",
       "</style>\n",
       "<table border=\"1\" class=\"dataframe\">\n",
       "  <thead>\n",
       "    <tr style=\"text-align: right;\">\n",
       "      <th></th>\n",
       "      <th>Credit Score</th>\n",
       "      <th>Age</th>\n",
       "      <th>Tenure</th>\n",
       "      <th>Balance</th>\n",
       "      <th>NumOfProducts</th>\n",
       "      <th>HasCrCard?</th>\n",
       "      <th>IsActiveMember</th>\n",
       "      <th>Estimated Salary</th>\n",
       "      <th>ExitedFromBank?</th>\n",
       "    </tr>\n",
       "  </thead>\n",
       "  <tbody>\n",
       "    <tr>\n",
       "      <th>count</th>\n",
       "      <td>787.000000</td>\n",
       "      <td>787.00000</td>\n",
       "      <td>787.000000</td>\n",
       "      <td>787.000000</td>\n",
       "      <td>787.000000</td>\n",
       "      <td>787.000000</td>\n",
       "      <td>787.000000</td>\n",
       "      <td>786.000000</td>\n",
       "      <td>787.0</td>\n",
       "    </tr>\n",
       "    <tr>\n",
       "      <th>mean</th>\n",
       "      <td>651.585769</td>\n",
       "      <td>37.50953</td>\n",
       "      <td>5.157560</td>\n",
       "      <td>74830.867789</td>\n",
       "      <td>1.538755</td>\n",
       "      <td>0.706480</td>\n",
       "      <td>0.561626</td>\n",
       "      <td>98942.793003</td>\n",
       "      <td>0.0</td>\n",
       "    </tr>\n",
       "    <tr>\n",
       "      <th>std</th>\n",
       "      <td>97.468511</td>\n",
       "      <td>9.81059</td>\n",
       "      <td>2.926683</td>\n",
       "      <td>62819.020794</td>\n",
       "      <td>0.511407</td>\n",
       "      <td>0.455664</td>\n",
       "      <td>0.496503</td>\n",
       "      <td>56605.530469</td>\n",
       "      <td>0.0</td>\n",
       "    </tr>\n",
       "    <tr>\n",
       "      <th>min</th>\n",
       "      <td>411.000000</td>\n",
       "      <td>18.00000</td>\n",
       "      <td>0.000000</td>\n",
       "      <td>0.000000</td>\n",
       "      <td>1.000000</td>\n",
       "      <td>0.000000</td>\n",
       "      <td>0.000000</td>\n",
       "      <td>371.050000</td>\n",
       "      <td>0.0</td>\n",
       "    </tr>\n",
       "    <tr>\n",
       "      <th>25%</th>\n",
       "      <td>583.000000</td>\n",
       "      <td>31.00000</td>\n",
       "      <td>3.000000</td>\n",
       "      <td>0.000000</td>\n",
       "      <td>1.000000</td>\n",
       "      <td>0.000000</td>\n",
       "      <td>0.000000</td>\n",
       "      <td>51236.222500</td>\n",
       "      <td>0.0</td>\n",
       "    </tr>\n",
       "    <tr>\n",
       "      <th>50%</th>\n",
       "      <td>657.000000</td>\n",
       "      <td>36.00000</td>\n",
       "      <td>5.000000</td>\n",
       "      <td>93147.000000</td>\n",
       "      <td>2.000000</td>\n",
       "      <td>1.000000</td>\n",
       "      <td>1.000000</td>\n",
       "      <td>98334.925000</td>\n",
       "      <td>0.0</td>\n",
       "    </tr>\n",
       "    <tr>\n",
       "      <th>75%</th>\n",
       "      <td>722.500000</td>\n",
       "      <td>41.50000</td>\n",
       "      <td>8.000000</td>\n",
       "      <td>127817.875000</td>\n",
       "      <td>2.000000</td>\n",
       "      <td>1.000000</td>\n",
       "      <td>1.000000</td>\n",
       "      <td>145925.935000</td>\n",
       "      <td>0.0</td>\n",
       "    </tr>\n",
       "    <tr>\n",
       "      <th>max</th>\n",
       "      <td>850.000000</td>\n",
       "      <td>82.00000</td>\n",
       "      <td>10.000000</td>\n",
       "      <td>197041.800000</td>\n",
       "      <td>3.000000</td>\n",
       "      <td>1.000000</td>\n",
       "      <td>1.000000</td>\n",
       "      <td>199661.500000</td>\n",
       "      <td>0.0</td>\n",
       "    </tr>\n",
       "  </tbody>\n",
       "</table>\n",
       "</div>"
      ],
      "text/plain": [
       "       Credit Score        Age      Tenure        Balance  NumOfProducts  \\\n",
       "count    787.000000  787.00000  787.000000     787.000000     787.000000   \n",
       "mean     651.585769   37.50953    5.157560   74830.867789       1.538755   \n",
       "std       97.468511    9.81059    2.926683   62819.020794       0.511407   \n",
       "min      411.000000   18.00000    0.000000       0.000000       1.000000   \n",
       "25%      583.000000   31.00000    3.000000       0.000000       1.000000   \n",
       "50%      657.000000   36.00000    5.000000   93147.000000       2.000000   \n",
       "75%      722.500000   41.50000    8.000000  127817.875000       2.000000   \n",
       "max      850.000000   82.00000   10.000000  197041.800000       3.000000   \n",
       "\n",
       "       HasCrCard?  IsActiveMember  Estimated Salary  ExitedFromBank?  \n",
       "count  787.000000      787.000000        786.000000            787.0  \n",
       "mean     0.706480        0.561626      98942.793003              0.0  \n",
       "std      0.455664        0.496503      56605.530469              0.0  \n",
       "min      0.000000        0.000000        371.050000              0.0  \n",
       "25%      0.000000        0.000000      51236.222500              0.0  \n",
       "50%      1.000000        1.000000      98334.925000              0.0  \n",
       "75%      1.000000        1.000000     145925.935000              0.0  \n",
       "max      1.000000        1.000000     199661.500000              0.0  "
      ]
     },
     "execution_count": 61,
     "metadata": {},
     "output_type": "execute_result"
    }
   ],
   "source": [
    "# DESCRIPTIVE ANALYSIS ON STAYED_BANK DF\n",
    "\n",
    "stayed_bank.describe()"
   ]
  },
  {
   "cell_type": "markdown",
   "id": "9b681c22-c7f6-4bfe-b7eb-1704fe113f96",
   "metadata": {},
   "source": [
    "NOTE: Clients that stayed within the bank remain for an average of 5 years. With a Credit score of 657 and an average age of 38 years. 60% of stayed clients are active members with 2 products, an average balance of 93K and an average Estimated salary of 98K. A total number of 787 clients stayed in the bank. Male clients are staying more than female. "
   ]
  },
  {
   "cell_type": "code",
   "execution_count": 62,
   "id": "92f5b7b2-37f5-45de-afe9-0168039ca4cb",
   "metadata": {},
   "outputs": [
    {
     "name": "stdout",
     "output_type": "stream",
     "text": [
      "Country\n",
      "France     403\n",
      "Spain      202\n",
      "Germany    168\n",
      "Denmark     14\n",
      "Name: count, dtype: int64\n",
      "Gender\n",
      "Male      446\n",
      "Female    341\n",
      "Name: count, dtype: int64\n"
     ]
    }
   ],
   "source": [
    "# Check the value_counts function of categorical columns for clients who exit\n",
    "\n",
    "print(stayed_bank['Country'].value_counts())\n",
    "print(stayed_bank['Gender'].value_counts())"
   ]
  },
  {
   "cell_type": "code",
   "execution_count": 63,
   "id": "2e7350bf-ae85-4deb-87c1-a59b30a86155",
   "metadata": {},
   "outputs": [
    {
     "data": {
      "text/html": [
       "<div>\n",
       "<style scoped>\n",
       "    .dataframe tbody tr th:only-of-type {\n",
       "        vertical-align: middle;\n",
       "    }\n",
       "\n",
       "    .dataframe tbody tr th {\n",
       "        vertical-align: top;\n",
       "    }\n",
       "\n",
       "    .dataframe thead th {\n",
       "        text-align: right;\n",
       "    }\n",
       "</style>\n",
       "<table border=\"1\" class=\"dataframe\">\n",
       "  <thead>\n",
       "    <tr style=\"text-align: right;\">\n",
       "      <th></th>\n",
       "      <th>Credit Score</th>\n",
       "      <th>Age</th>\n",
       "      <th>Tenure</th>\n",
       "      <th>Balance</th>\n",
       "      <th>NumOfProducts</th>\n",
       "      <th>HasCrCard?</th>\n",
       "      <th>IsActiveMember</th>\n",
       "      <th>Estimated Salary</th>\n",
       "      <th>ExitedFromBank?</th>\n",
       "    </tr>\n",
       "  </thead>\n",
       "  <tbody>\n",
       "    <tr>\n",
       "      <th>count</th>\n",
       "      <td>204.000000</td>\n",
       "      <td>204.000000</td>\n",
       "      <td>204.000000</td>\n",
       "      <td>204.000000</td>\n",
       "      <td>204.000000</td>\n",
       "      <td>204.000000</td>\n",
       "      <td>204.000000</td>\n",
       "      <td>204.000000</td>\n",
       "      <td>204.0</td>\n",
       "    </tr>\n",
       "    <tr>\n",
       "      <th>mean</th>\n",
       "      <td>636.529412</td>\n",
       "      <td>45.200980</td>\n",
       "      <td>4.715686</td>\n",
       "      <td>90239.218873</td>\n",
       "      <td>1.460784</td>\n",
       "      <td>0.705882</td>\n",
       "      <td>0.299020</td>\n",
       "      <td>96658.876765</td>\n",
       "      <td>1.0</td>\n",
       "    </tr>\n",
       "    <tr>\n",
       "      <th>std</th>\n",
       "      <td>99.625773</td>\n",
       "      <td>9.558933</td>\n",
       "      <td>2.915484</td>\n",
       "      <td>61352.066625</td>\n",
       "      <td>0.764632</td>\n",
       "      <td>0.456766</td>\n",
       "      <td>0.458955</td>\n",
       "      <td>59922.807565</td>\n",
       "      <td>0.0</td>\n",
       "    </tr>\n",
       "    <tr>\n",
       "      <th>min</th>\n",
       "      <td>376.000000</td>\n",
       "      <td>22.000000</td>\n",
       "      <td>0.000000</td>\n",
       "      <td>0.000000</td>\n",
       "      <td>1.000000</td>\n",
       "      <td>0.000000</td>\n",
       "      <td>0.000000</td>\n",
       "      <td>98.000000</td>\n",
       "      <td>1.0</td>\n",
       "    </tr>\n",
       "    <tr>\n",
       "      <th>25%</th>\n",
       "      <td>562.750000</td>\n",
       "      <td>39.000000</td>\n",
       "      <td>2.000000</td>\n",
       "      <td>0.000000</td>\n",
       "      <td>1.000000</td>\n",
       "      <td>0.000000</td>\n",
       "      <td>0.000000</td>\n",
       "      <td>42825.860000</td>\n",
       "      <td>1.0</td>\n",
       "    </tr>\n",
       "    <tr>\n",
       "      <th>50%</th>\n",
       "      <td>643.000000</td>\n",
       "      <td>45.000000</td>\n",
       "      <td>5.000000</td>\n",
       "      <td>112433.965000</td>\n",
       "      <td>1.000000</td>\n",
       "      <td>1.000000</td>\n",
       "      <td>0.000000</td>\n",
       "      <td>98478.950000</td>\n",
       "      <td>1.0</td>\n",
       "    </tr>\n",
       "    <tr>\n",
       "      <th>75%</th>\n",
       "      <td>714.250000</td>\n",
       "      <td>51.000000</td>\n",
       "      <td>7.000000</td>\n",
       "      <td>133713.527500</td>\n",
       "      <td>2.000000</td>\n",
       "      <td>1.000000</td>\n",
       "      <td>1.000000</td>\n",
       "      <td>148291.382500</td>\n",
       "      <td>1.0</td>\n",
       "    </tr>\n",
       "    <tr>\n",
       "      <th>max</th>\n",
       "      <td>850.000000</td>\n",
       "      <td>69.000000</td>\n",
       "      <td>10.000000</td>\n",
       "      <td>213146.200000</td>\n",
       "      <td>4.000000</td>\n",
       "      <td>1.000000</td>\n",
       "      <td>1.000000</td>\n",
       "      <td>199725.390000</td>\n",
       "      <td>1.0</td>\n",
       "    </tr>\n",
       "  </tbody>\n",
       "</table>\n",
       "</div>"
      ],
      "text/plain": [
       "       Credit Score         Age      Tenure        Balance  NumOfProducts  \\\n",
       "count    204.000000  204.000000  204.000000     204.000000     204.000000   \n",
       "mean     636.529412   45.200980    4.715686   90239.218873       1.460784   \n",
       "std       99.625773    9.558933    2.915484   61352.066625       0.764632   \n",
       "min      376.000000   22.000000    0.000000       0.000000       1.000000   \n",
       "25%      562.750000   39.000000    2.000000       0.000000       1.000000   \n",
       "50%      643.000000   45.000000    5.000000  112433.965000       1.000000   \n",
       "75%      714.250000   51.000000    7.000000  133713.527500       2.000000   \n",
       "max      850.000000   69.000000   10.000000  213146.200000       4.000000   \n",
       "\n",
       "       HasCrCard?  IsActiveMember  Estimated Salary  ExitedFromBank?  \n",
       "count  204.000000      204.000000        204.000000            204.0  \n",
       "mean     0.705882        0.299020      96658.876765              1.0  \n",
       "std      0.456766        0.458955      59922.807565              0.0  \n",
       "min      0.000000        0.000000         98.000000              1.0  \n",
       "25%      0.000000        0.000000      42825.860000              1.0  \n",
       "50%      1.000000        0.000000      98478.950000              1.0  \n",
       "75%      1.000000        1.000000     148291.382500              1.0  \n",
       "max      1.000000        1.000000     199725.390000              1.0  "
      ]
     },
     "execution_count": 63,
     "metadata": {},
     "output_type": "execute_result"
    }
   ],
   "source": [
    "# DESCRIPTIVE ANALYSIS ON EXIT_BANK DF\n",
    "\n",
    "exit_bank.describe()"
   ]
  },
  {
   "cell_type": "code",
   "execution_count": 64,
   "id": "19b51f09-4723-4167-852d-3f086aec2af7",
   "metadata": {},
   "outputs": [
    {
     "name": "stdout",
     "output_type": "stream",
     "text": [
      "Country\n",
      "France     77\n",
      "Germany    66\n",
      "Spain      52\n",
      "Denmark     9\n",
      "Name: count, dtype: int64\n",
      "Gender\n",
      "Female    121\n",
      "Male       83\n",
      "Name: count, dtype: int64\n"
     ]
    }
   ],
   "source": [
    "# Check the value_counts function of categorical columns for clients who left\\n\",\n",
    "print(exit_bank['Country'].value_counts())\n",
    "print(exit_bank['Gender'].value_counts())"
   ]
  },
  {
   "cell_type": "markdown",
   "id": "2366f8fc-cb51-4d7d-b049-c3e0443b3e54",
   "metadata": {},
   "source": [
    "Clients that left the bank have 1 product of average age of 45 years, 5 years tenure, 1 credit card, estimated salary of 98k and balances of 112k. More female left the bank than their male counterpart. The average credit score is also 643. "
   ]
  },
  {
   "cell_type": "code",
   "execution_count": null,
   "id": "e20e5abd-70a7-4ad3-8156-4186c77b4c12",
   "metadata": {},
   "outputs": [],
   "source": []
  }
 ],
 "metadata": {
  "kernelspec": {
   "display_name": "Python 3 (ipykernel)",
   "language": "python",
   "name": "python3"
  },
  "language_info": {
   "codemirror_mode": {
    "name": "ipython",
    "version": 3
   },
   "file_extension": ".py",
   "mimetype": "text/x-python",
   "name": "python",
   "nbconvert_exporter": "python",
   "pygments_lexer": "ipython3",
   "version": "3.11.7"
  }
 },
 "nbformat": 4,
 "nbformat_minor": 5
}
